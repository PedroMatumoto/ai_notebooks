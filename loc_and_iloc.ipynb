{
  "nbformat": 4,
  "nbformat_minor": 0,
  "metadata": {
    "colab": {
      "provenance": [],
      "include_colab_link": true
    },
    "kernelspec": {
      "name": "python3",
      "display_name": "Python 3"
    },
    "language_info": {
      "name": "python"
    }
  },
  "cells": [
    {
      "cell_type": "markdown",
      "metadata": {
        "id": "view-in-github",
        "colab_type": "text"
      },
      "source": [
        "<a href=\"https://colab.research.google.com/github/PedroMatumoto/AI_Notebooks/blob/main/loc_and_iloc.ipynb\" target=\"_parent\"><img src=\"https://colab.research.google.com/assets/colab-badge.svg\" alt=\"Open In Colab\"/></a>"
      ]
    },
    {
      "cell_type": "markdown",
      "metadata": {
        "id": "te1NO4UoLvgn"
      },
      "source": [
        "# **CASE: Ações B3 NYC**\n",
        "\n",
        "A base de dados a seguir traz valores de fechamento, % de valorização diária (%) e volume negociado (V) de vários ativos de 2019 a 2025.\n",
        "\n",
        "  - `BVSP`, Índice Bovespa\n",
        "  - `PETR4.SA`,\n",
        "  - `VALE3.SA`,\n",
        "  - `BRL=X`, Cotação do Dólar\n",
        "  - `ITUB3.SA`,\n",
        "  - `BTC-USD`, BitCoin US\n",
        "\n",
        "Valores monetários são em moeda corrente. Valores ausentes indicam ausência de pregão/cotação, mas não há necessidade de qualquer tratamento aqui. Após entender os dados, crie os scripts necessários para responder as seguintes perguntas.\n",
        "\n",
        "[Data](https://github.com/Rogerio-mack/IMT_CD_2025/raw/refs/heads/main/data/stocks_2019_2025.csv)\n",
        "\n",
        "\n",
        "\n"
      ]
    },
    {
      "cell_type": "markdown",
      "source": [
        "# Q1.\n",
        "\n",
        "Os dados do mês de abril de 2020 do índice bovespa foram atualizados de modo errado e encontram-se 10% maior do que o valor correto. Corrija esses valores. Em seguida apresente o novo valor de soma de todos os valores do índice na base."
      ],
      "metadata": {
        "id": "q7_YE44iNTvE"
      }
    },
    {
      "cell_type": "code",
      "source": [
        "import pandas as pd\n",
        "\n",
        "df = pd.read_csv('https://github.com/Rogerio-mack/IMT_CD_2025/raw/refs/heads/main/data/stocks_2019_2025.csv')\n",
        "df.columns\n",
        "df['Date'] = pd.to_datetime(df['Date'])\n",
        "print(df['^BVSP'].sum())\n",
        "\n",
        "df.loc[(df['Date'].dt.month == 4) & (df['Date'].dt.year == 2020), '^BVSP'] = df.loc[(df['Date'].dt.month == 4) & (df['Date'].dt.year == 2020), '^BVSP'] / 1.1\n",
        "print(df['^BVSP'].sum())"
      ],
      "metadata": {
        "id": "2vr5IqQdUHEE",
        "outputId": "134780f4-773f-422b-e462-1045c8b752a8",
        "colab": {
          "base_uri": "https://localhost:8080/"
        }
      },
      "execution_count": 26,
      "outputs": [
        {
          "output_type": "stream",
          "name": "stdout",
          "text": [
            "172683282.0\n",
            "172542211.54545456\n"
          ]
        }
      ]
    },
    {
      "cell_type": "markdown",
      "source": [],
      "metadata": {
        "id": "UEVXsUrNWgpa"
      }
    },
    {
      "cell_type": "markdown",
      "source": [
        "# Q2.\n",
        "\n",
        "Para efetuar uma análise tomamos a resolução de substituir os valores ausentes do real pela média dos últimos três valores anteriores (dias anteriores). Realize essa alteração na base. Em seguida apresente o novo valor de soma de todas as cotações do real na base."
      ],
      "metadata": {
        "id": "54nZMohrN-VN"
      }
    },
    {
      "cell_type": "code",
      "source": [
        "df = pd.read_csv('https://github.com/Rogerio-mack/IMT_CD_2025/raw/refs/heads/main/data/stocks_2019_2025.csv')\n",
        "df['Date'] = pd.to_datetime(df['Date'])\n",
        "# ordernar\n",
        "df = df.sort_values(by='Date')\n",
        "df['primeiro_valor'] = df['BRL=X'].shift(1)\n",
        "df['segundo_valor'] = df['BRL=X'].shift(2)\n",
        "df['terceiro_valor'] = df['BRL=X'].shift(3)\n",
        "print(df['BRL=X'].sum())\n",
        "df.loc[df['BRL=X'].isnull(), 'BRL=X'] = df['BRL=X'].fillna(((df[['primeiro_valor', 'segundo_valor', 'terceiro_valor']].mean(axis=1))))\n",
        "print(df['BRL=X'].sum())"
      ],
      "metadata": {
        "id": "2JVKmwhDWBrg",
        "outputId": "1ca15796-e275-4169-b99e-aaa4f075d864",
        "colab": {
          "base_uri": "https://localhost:8080/"
        }
      },
      "execution_count": 38,
      "outputs": [
        {
          "output_type": "stream",
          "name": "stdout",
          "text": [
            "8150.016347885132\n",
            "11421.552574753761\n"
          ]
        }
      ]
    },
    {
      "cell_type": "markdown",
      "source": [
        "# Q3.\n",
        "\n",
        "Crie os valores da série média móvel de 5 dias do valor dos ativos da bolsa brasileira (valores nulos podem ser ignorados na média). Em seguida apresente o novo valor de soma de todas essas cotações na base."
      ],
      "metadata": {
        "id": "nCEg37XhOoU5"
      }
    },
    {
      "cell_type": "code",
      "source": [
        "df = pd.read_csv('https://github.com/Rogerio-mack/IMT_CD_2025/raw/refs/heads/main/data/stocks_2019_2025.csv')\n",
        "df['Date'] = pd.to_datetime(df['Date'])\n",
        "# ordernar\n",
        "df = df.sort_values(by='Date');\n",
        "df['primeiro_valor_bvsp'] = df['^BVSP'].shift(1)\n",
        "df['segundo_valor_bvsp'] = df['^BVSP'].shift(2)\n",
        "df['terceiro_valor_bvsp'] = df['^BVSP'].shift(3)\n",
        "df['quarto_valor_bvsp'] = df['^BVSP'].shift(4)\n",
        "df['quinto_valor_bvsp'] = df['^BVSP'].shift(5)\n",
        "df['Media movel BVSP'] = df[['^BVSP', 'primeiro_valor_bvsp', 'segundo_valor_bvsp', 'terceiro_valor_bvsp', 'quarto_valor_bvsp', 'quinto_valor_bvsp']].mean(axis=1)\n",
        "print(df['Media movel BVSP'].sum())\n",
        "\n",
        "df['primeiro_valor_petr4'] = df['PETR4.SA'].shift(1)\n",
        "df['segundo_valor_petr4'] = df['PETR4.SA'].shift(2)\n",
        "df['terceiro_valor_petr4'] = df['PETR4.SA'].shift(3)\n",
        "df['quarto_valor_petr4'] = df['PETR4.SA'].shift(4)\n",
        "df['quinto_valor_petr4'] = df['PETR4.SA'].shift(5)\n",
        "df['Media movel PETR4'] = df[['PETR4.SA', 'primeiro_valor_petr4', 'segundo_valor_petr4', 'terceiro_valor_petr4', 'quarto_valor_petr4', 'quinto_valor_petr4']].mean(axis=1)\n",
        "print(df['Media movel PETR4'].sum())\n",
        "\n",
        "df['primeiro_valor_vale3'] = df['VALE3.SA'].shift(1)\n",
        "df['segundo_valor_vale3'] = df['VALE3.SA'].shift(2)\n",
        "df['terceiro_valor_vale3'] = df['VALE3.SA'].shift(3)\n",
        "df['quarto_valor_vale3'] = df['VALE3.SA'].shift(4)\n",
        "df['quinto_valor_vale3'] = df['VALE3.SA'].shift(5)\n",
        "df['Media movel VALE3'] = df[['VALE3.SA', 'primeiro_valor_vale3', 'segundo_valor_vale3', 'terceiro_valor_vale3', 'quarto_valor_vale3', 'quinto_valor_vale3']].mean(axis=1)\n",
        "print(df['Media movel VALE3'].sum())\n",
        "\n",
        "df['primeiro_valor_itub3'] = df['ITUB3.SA'].shift(1)\n",
        "df['segundo_valor_itub3'] = df['ITUB3.SA'].shift(2)\n",
        "df['terceiro_valor_itub3'] = df['ITUB3.SA'].shift(3)\n",
        "df['quarto_valor_itub3'] = df['ITUB3.SA'].shift(4)\n",
        "df['quinto_valor_itub3'] = df['ITUB3.SA'].shift(5)\n",
        "df['Media movel ITUB3'] = df[['ITUB3.SA', 'primeiro_valor_itub3', 'segundo_valor_itub3', 'terceiro_valor_itub3', 'quarto_valor_itub3', 'quinto_valor_itub3']].mean(axis=1)\n",
        "print(df['Media movel ITUB3'].sum())\n",
        "\n",
        "print(df['Media movel BVSP'].sum() + df['Media movel PETR4'].sum() + df['Media movel VALE3'].sum() + df['Media movel ITUB3'].sum())\n"
      ],
      "metadata": {
        "id": "13a6KLPXYnIc",
        "outputId": "c76f23bc-a209-4eb7-8b40-3e1272512c18",
        "colab": {
          "base_uri": "https://localhost:8080/"
        }
      },
      "execution_count": 52,
      "outputs": [
        {
          "output_type": "stream",
          "name": "stdout",
          "text": [
            "253611946.5\n",
            "37634.89195453326\n",
            "119231.68881336847\n",
            "42849.567344919844\n",
            "253811662.64811283\n"
          ]
        }
      ]
    }
  ]
}